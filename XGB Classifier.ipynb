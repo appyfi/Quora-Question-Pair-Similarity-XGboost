{
 "cells": [
  {
   "cell_type": "code",
   "execution_count": 1,
   "id": "492154c6",
   "metadata": {},
   "outputs": [],
   "source": [
    "import pandas as pd\n",
    "data=pd.read_csv(\"Feature.csv\")"
   ]
  },
  {
   "cell_type": "code",
   "execution_count": 2,
   "id": "14bff750",
   "metadata": {},
   "outputs": [],
   "source": [
    "from sklearn.model_selection import train_test_split\n",
    "from sklearn.feature_extraction.text import TfidfVectorizer"
   ]
  },
  {
   "cell_type": "code",
   "execution_count": 3,
   "id": "965ce18c",
   "metadata": {},
   "outputs": [
    {
     "data": {
      "text/plain": [
       "Index(['id', 'qid1', 'qid2', 'question1', 'question2', 'is_duplicate',\n",
       "       'freq_qid1', 'freq_qid2', 'len_Q1', 'len_Q2', 'w_common', 'word_total',\n",
       "       'w_share', 'total_freq', 'dif_freq', 'cwcmin', 'cwcmax', 'cscmin',\n",
       "       'cscmax', 'ctcmin', 'ctcmax', 'last', 'first', 'diff', 'mean',\n",
       "       'token_set_ratio', 'token_sort_ratio', 'fuzz_ratio',\n",
       "       'fuzz_partial_ratio', 'longest_substr_ratio'],\n",
       "      dtype='object')"
      ]
     },
     "execution_count": 3,
     "metadata": {},
     "output_type": "execute_result"
    }
   ],
   "source": [
    "data.columns"
   ]
  },
  {
   "cell_type": "code",
   "execution_count": 4,
   "id": "022327c1",
   "metadata": {},
   "outputs": [],
   "source": [
    "result=data[\"is_duplicate\"]"
   ]
  },
  {
   "cell_type": "code",
   "execution_count": 5,
   "id": "e0cf546d",
   "metadata": {},
   "outputs": [],
   "source": [
    "data=data.drop(\"is_duplicate\",axis=1)"
   ]
  },
  {
   "cell_type": "code",
   "execution_count": 6,
   "id": "fd88a8ab",
   "metadata": {},
   "outputs": [],
   "source": [
    "X_train,X_test,Y_train,Y_test=train_test_split(data,result,test_size=0.30,stratify=result)"
   ]
  },
  {
   "cell_type": "code",
   "execution_count": 7,
   "id": "86c69cee",
   "metadata": {},
   "outputs": [
    {
     "name": "stdout",
     "output_type": "stream",
     "text": [
      "Train data size (283003, 29)\n",
      "Test data size (121287, 29)\n",
      "YTrain data size (283003,)\n",
      "YTest data size (121287,)\n"
     ]
    }
   ],
   "source": [
    "print(\"Train data size\", X_train.shape)\n",
    "print(\"Test data size\", X_test.shape)\n",
    "print(\"YTrain data size\", Y_train.shape)\n",
    "print(\"YTest data size\", Y_test.shape)\n",
    "\n"
   ]
  },
  {
   "cell_type": "code",
   "execution_count": 8,
   "id": "03536d22",
   "metadata": {},
   "outputs": [
    {
     "data": {
      "text/html": [
       "<div>\n",
       "<style scoped>\n",
       "    .dataframe tbody tr th:only-of-type {\n",
       "        vertical-align: middle;\n",
       "    }\n",
       "\n",
       "    .dataframe tbody tr th {\n",
       "        vertical-align: top;\n",
       "    }\n",
       "\n",
       "    .dataframe thead th {\n",
       "        text-align: right;\n",
       "    }\n",
       "</style>\n",
       "<table border=\"1\" class=\"dataframe\">\n",
       "  <thead>\n",
       "    <tr style=\"text-align: right;\">\n",
       "      <th></th>\n",
       "      <th>id</th>\n",
       "      <th>qid1</th>\n",
       "      <th>qid2</th>\n",
       "      <th>question1</th>\n",
       "      <th>question2</th>\n",
       "      <th>freq_qid1</th>\n",
       "      <th>freq_qid2</th>\n",
       "      <th>len_Q1</th>\n",
       "      <th>len_Q2</th>\n",
       "      <th>w_common</th>\n",
       "      <th>...</th>\n",
       "      <th>ctcmax</th>\n",
       "      <th>last</th>\n",
       "      <th>first</th>\n",
       "      <th>diff</th>\n",
       "      <th>mean</th>\n",
       "      <th>token_set_ratio</th>\n",
       "      <th>token_sort_ratio</th>\n",
       "      <th>fuzz_ratio</th>\n",
       "      <th>fuzz_partial_ratio</th>\n",
       "      <th>longest_substr_ratio</th>\n",
       "    </tr>\n",
       "  </thead>\n",
       "  <tbody>\n",
       "    <tr>\n",
       "      <th>153318</th>\n",
       "      <td>153318</td>\n",
       "      <td>240683</td>\n",
       "      <td>114572</td>\n",
       "      <td>How do you determine the Lewis dot structure o...</td>\n",
       "      <td>How is the Lewis dot structure determined?</td>\n",
       "      <td>3</td>\n",
       "      <td>2</td>\n",
       "      <td>10</td>\n",
       "      <td>7</td>\n",
       "      <td>5</td>\n",
       "      <td>...</td>\n",
       "      <td>0.714276</td>\n",
       "      <td>0</td>\n",
       "      <td>1</td>\n",
       "      <td>3</td>\n",
       "      <td>8.5</td>\n",
       "      <td>83</td>\n",
       "      <td>83</td>\n",
       "      <td>65</td>\n",
       "      <td>68</td>\n",
       "      <td>0.581395</td>\n",
       "    </tr>\n",
       "    <tr>\n",
       "      <th>191815</th>\n",
       "      <td>191815</td>\n",
       "      <td>291275</td>\n",
       "      <td>291276</td>\n",
       "      <td>Who is the best CNN news anchor?</td>\n",
       "      <td>Who is the best anchor on WGOG News? Why?</td>\n",
       "      <td>1</td>\n",
       "      <td>1</td>\n",
       "      <td>7</td>\n",
       "      <td>9</td>\n",
       "      <td>4</td>\n",
       "      <td>...</td>\n",
       "      <td>0.571420</td>\n",
       "      <td>0</td>\n",
       "      <td>1</td>\n",
       "      <td>2</td>\n",
       "      <td>8.0</td>\n",
       "      <td>93</td>\n",
       "      <td>77</td>\n",
       "      <td>70</td>\n",
       "      <td>69</td>\n",
       "      <td>0.484848</td>\n",
       "    </tr>\n",
       "  </tbody>\n",
       "</table>\n",
       "<p>2 rows × 29 columns</p>\n",
       "</div>"
      ],
      "text/plain": [
       "            id    qid1    qid2  \\\n",
       "153318  153318  240683  114572   \n",
       "191815  191815  291275  291276   \n",
       "\n",
       "                                                question1  \\\n",
       "153318  How do you determine the Lewis dot structure o...   \n",
       "191815                   Who is the best CNN news anchor?   \n",
       "\n",
       "                                         question2  freq_qid1  freq_qid2  \\\n",
       "153318  How is the Lewis dot structure determined?          3          2   \n",
       "191815   Who is the best anchor on WGOG News? Why?          1          1   \n",
       "\n",
       "        len_Q1  len_Q2  w_common  ...    ctcmax  last  first  diff  mean  \\\n",
       "153318      10       7         5  ...  0.714276     0      1     3   8.5   \n",
       "191815       7       9         4  ...  0.571420     0      1     2   8.0   \n",
       "\n",
       "        token_set_ratio  token_sort_ratio  fuzz_ratio  fuzz_partial_ratio  \\\n",
       "153318               83                83          65                  68   \n",
       "191815               93                77          70                  69   \n",
       "\n",
       "        longest_substr_ratio  \n",
       "153318              0.581395  \n",
       "191815              0.484848  \n",
       "\n",
       "[2 rows x 29 columns]"
      ]
     },
     "execution_count": 8,
     "metadata": {},
     "output_type": "execute_result"
    }
   ],
   "source": [
    "X_train.head(2)"
   ]
  },
  {
   "cell_type": "code",
   "execution_count": 9,
   "id": "d3844eea",
   "metadata": {},
   "outputs": [],
   "source": [
    "#implimenting Avg-Word2Vec\n",
    "import pickle\n",
    "with open(\"glove_vectors\",\"rb\") as f:\n",
    "    model=pickle.load(f)\n",
    "    glove_words=set(model.keys())"
   ]
  },
  {
   "cell_type": "code",
   "execution_count": 10,
   "id": "dac69648",
   "metadata": {},
   "outputs": [
    {
     "name": "stderr",
     "output_type": "stream",
     "text": [
      "C:\\Users\\mynam\\AppData\\Local\\Programs\\Python\\Python310\\lib\\site-packages\\sklearn\\utils\\deprecation.py:87: FutureWarning: Function get_feature_names is deprecated; get_feature_names is deprecated in 1.0 and will be removed in 1.2. Please use get_feature_names_out instead.\n",
      "  warnings.warn(msg, category=FutureWarning)\n"
     ]
    }
   ],
   "source": [
    "tf_idf=TfidfVectorizer()\n",
    "tf_idf.fit(X_train[\"question1\"])\n",
    "dic=dict(zip(tf_idf.get_feature_names(),list(tf_idf.idf_)))\n",
    "tfidf_words=set(tf_idf.get_feature_names())"
   ]
  },
  {
   "cell_type": "code",
   "execution_count": 11,
   "id": "1befaa3b",
   "metadata": {},
   "outputs": [],
   "source": [
    "import numpy as np"
   ]
  },
  {
   "cell_type": "code",
   "execution_count": 12,
   "id": "72a13146",
   "metadata": {},
   "outputs": [
    {
     "name": "stderr",
     "output_type": "stream",
     "text": [
      "100%|███████████████████████████████████████████████████████████████████████| 283003/283003 [00:09<00:00, 30868.76it/s]\n"
     ]
    }
   ],
   "source": [
    "from tqdm import tqdm\n",
    "X_trainw2v1=[]\n",
    "for sentence in tqdm(X_train[\"question1\"]):\n",
    "    vector=np.zeros(300)\n",
    "    weight=0\n",
    "    for word in sentence.split():\n",
    "        if (word in glove_words) and (word in tfidf_words):\n",
    "            vec=model[word]\n",
    "            tfidf=dic[word]+(sentence.count(word)/len(sentence.split()))\n",
    "            vector+=(vec*tfidf)\n",
    "            weight+=tfidf\n",
    "    if weight !=0:\n",
    "        vector/=weight\n",
    "    X_trainw2v1.append(vector)"
   ]
  },
  {
   "cell_type": "code",
   "execution_count": 13,
   "id": "8eef9517",
   "metadata": {},
   "outputs": [
    {
     "name": "stderr",
     "output_type": "stream",
     "text": [
      "100%|███████████████████████████████████████████████████████████████████████| 121287/121287 [00:03<00:00, 34973.58it/s]\n"
     ]
    }
   ],
   "source": [
    "X_testw2v1=[]\n",
    "for sentence in tqdm(X_test[\"question1\"]):\n",
    "    vec=np.zeros(300)\n",
    "    weight=0\n",
    "    for word in sentence.split():\n",
    "        if (word in glove_words) and (word in tfidf_words):\n",
    "            vec=model[word]\n",
    "            tfidf=dic[word]+(sentence.count(word)/len(sentence.split()))\n",
    "            vector+=(vec*tfidf)\n",
    "    if weight !=0:\n",
    "        vector/=weight\n",
    "    X_testw2v1.append(vector)\n",
    "    "
   ]
  },
  {
   "cell_type": "code",
   "execution_count": 14,
   "id": "618fba8d",
   "metadata": {},
   "outputs": [
    {
     "name": "stdout",
     "output_type": "stream",
     "text": [
      "121287\n"
     ]
    }
   ],
   "source": [
    "print(len(X_testw2v1))"
   ]
  },
  {
   "cell_type": "code",
   "execution_count": 15,
   "id": "aa470b26",
   "metadata": {},
   "outputs": [],
   "source": [
    "tf_idf2=TfidfVectorizer()\n",
    "tf_idf2.fit(X_train[\"question2\"])\n",
    "dic=dict(zip(tf_idf2.get_feature_names(),list(tf_idf2.idf_)))\n",
    "tfidf2_words=set(tf_idf2.get_feature_names())"
   ]
  },
  {
   "cell_type": "code",
   "execution_count": 16,
   "id": "c00964b0",
   "metadata": {},
   "outputs": [
    {
     "name": "stderr",
     "output_type": "stream",
     "text": [
      "100%|███████████████████████████████████████████████████████████████████████| 283003/283003 [00:09<00:00, 29812.15it/s]\n"
     ]
    }
   ],
   "source": [
    "from tqdm import tqdm\n",
    "X_trainw2v2=[]\n",
    "for sentence in tqdm(X_train[\"question2\"]):\n",
    "    vector=np.zeros(300)\n",
    "    weight=0\n",
    "    for word in sentence.split():\n",
    "        if (word in glove_words) and (word in tfidf2_words):\n",
    "            vec=model[word]\n",
    "            tfidf=dic[word]+(sentence.count(word)/len(sentence.split()))\n",
    "            vector+=(vec*tfidf)\n",
    "            weight+=tfidf\n",
    "    if weight !=0:\n",
    "        vector/=weight\n",
    "    X_trainw2v2.append(vector)"
   ]
  },
  {
   "cell_type": "code",
   "execution_count": 17,
   "id": "1069a945",
   "metadata": {},
   "outputs": [
    {
     "name": "stderr",
     "output_type": "stream",
     "text": [
      "100%|███████████████████████████████████████████████████████████████████████| 121287/121287 [00:03<00:00, 33294.73it/s]\n"
     ]
    }
   ],
   "source": [
    "X_testw2v2=[]\n",
    "for sentence in tqdm(X_test[\"question2\"]):\n",
    "    vec=np.zeros(300)\n",
    "    weight=0\n",
    "    for word in sentence.split():\n",
    "        if (word in glove_words) and (word in tfidf2_words):\n",
    "            vec=model[word]\n",
    "            tfidf=dic[word]+(sentence.count(word)/len(sentence.split()))\n",
    "            vector+=(vec*tfidf)\n",
    "    if weight !=0:\n",
    "        vector/=weight\n",
    "    X_testw2v2.append(vector)\n",
    "    "
   ]
  },
  {
   "cell_type": "code",
   "execution_count": 18,
   "id": "3191e212",
   "metadata": {},
   "outputs": [],
   "source": [
    "from scipy.sparse import hstack\n",
    "from scipy import sparse\n"
   ]
  },
  {
   "cell_type": "code",
   "execution_count": 38,
   "id": "5a5d6ec5",
   "metadata": {},
   "outputs": [
    {
     "data": {
      "text/plain": [
       "Index(['id', 'qid1', 'qid2', 'question1', 'question2', 'freq_qid1',\n",
       "       'freq_qid2', 'len_Q1', 'len_Q2', 'w_common', 'word_total', 'w_share',\n",
       "       'total_freq', 'dif_freq', 'cwcmin', 'cwcmax', 'cscmin', 'cscmax',\n",
       "       'ctcmin', 'ctcmax', 'last', 'first', 'diff', 'mean', 'token_set_ratio',\n",
       "       'token_sort_ratio', 'fuzz_ratio', 'fuzz_partial_ratio',\n",
       "       'longest_substr_ratio'],\n",
       "      dtype='object')"
      ]
     },
     "execution_count": 38,
     "metadata": {},
     "output_type": "execute_result"
    }
   ],
   "source": [
    "X_train.columns"
   ]
  },
  {
   "cell_type": "code",
   "execution_count": 19,
   "id": "0f8856d3",
   "metadata": {},
   "outputs": [],
   "source": [
    "X_train=X_train.drop(\"question1\",axis=1)\n",
    "X_train=X_train.drop(\"question2\",axis=1)\n"
   ]
  },
  {
   "cell_type": "code",
   "execution_count": 20,
   "id": "4635429b",
   "metadata": {},
   "outputs": [],
   "source": [
    "word_total=np.array(X_train)\n",
    "word_total = sparse.csr_matrix(word_total)\n"
   ]
  },
  {
   "cell_type": "code",
   "execution_count": 21,
   "id": "f675ea73",
   "metadata": {},
   "outputs": [],
   "source": [
    "train=hstack((word_total,X_trainw2v1,X_trainw2v2))"
   ]
  },
  {
   "cell_type": "code",
   "execution_count": 22,
   "id": "da6de6c6",
   "metadata": {},
   "outputs": [
    {
     "data": {
      "text/plain": [
       "(283003, 627)"
      ]
     },
     "execution_count": 22,
     "metadata": {},
     "output_type": "execute_result"
    }
   ],
   "source": [
    "train.shape"
   ]
  },
  {
   "cell_type": "code",
   "execution_count": 23,
   "id": "35fef9b4",
   "metadata": {},
   "outputs": [],
   "source": [
    "X_test=X_test.drop(\"question1\",axis=1)\n",
    "X_test=X_test.drop(\"question2\",axis=1)\n"
   ]
  },
  {
   "cell_type": "code",
   "execution_count": 24,
   "id": "7c65a869",
   "metadata": {},
   "outputs": [],
   "source": [
    "word_test=np.array(X_test)\n",
    "word_test = sparse.csr_matrix(word_test)"
   ]
  },
  {
   "cell_type": "code",
   "execution_count": 25,
   "id": "211f63c7",
   "metadata": {},
   "outputs": [],
   "source": [
    "test=hstack((word_test,X_testw2v1,X_testw2v2))"
   ]
  },
  {
   "cell_type": "code",
   "execution_count": 26,
   "id": "1b8629c0",
   "metadata": {},
   "outputs": [
    {
     "data": {
      "text/plain": [
       "(121287, 627)"
      ]
     },
     "execution_count": 26,
     "metadata": {},
     "output_type": "execute_result"
    }
   ],
   "source": [
    "test.shape"
   ]
  },
  {
   "cell_type": "code",
   "execution_count": 29,
   "id": "74129bef",
   "metadata": {},
   "outputs": [],
   "source": [
    "from sklearn.ensemble import GradientBoostingClassifier\n",
    "from sklearn.metrics import roc_auc_score\n",
    "import numpy as np\n",
    "from sklearn.metrics import roc_curve, auc\n",
    "import matplotlib.pyplot as plt"
   ]
  },
  {
   "cell_type": "code",
   "execution_count": 27,
   "id": "5e9ade60",
   "metadata": {},
   "outputs": [],
   "source": [
    "from xgboost import XGBClassifier\n"
   ]
  },
  {
   "cell_type": "code",
   "execution_count": 30,
   "id": "b5ee6b45",
   "metadata": {},
   "outputs": [
    {
     "name": "stderr",
     "output_type": "stream",
     "text": [
      "C:\\Users\\mynam\\AppData\\Local\\Programs\\Python\\Python310\\lib\\site-packages\\xgboost\\sklearn.py:1224: UserWarning: The use of label encoder in XGBClassifier is deprecated and will be removed in a future release. To remove this warning, do the following: 1) Pass option use_label_encoder=False when constructing XGBClassifier object; and 2) Encode your labels (y) as integers starting with 0, i.e. 0, 1, 2, ..., [num_class - 1].\n",
      "  warnings.warn(label_encoder_deprecation_msg, UserWarning)\n"
     ]
    },
    {
     "name": "stdout",
     "output_type": "stream",
     "text": [
      "[09:15:54] WARNING: C:/Users/Administrator/workspace/xgboost-win64_release_1.5.1/src/learner.cc:1115: Starting in XGBoost 1.3.0, the default evaluation metric used with the objective 'binary:logistic' was changed from 'error' to 'logloss'. Explicitly set eval_metric if you'd like to restore the old behavior.\n"
     ]
    },
    {
     "data": {
      "image/png": "[encoded data removed]",
      "text/plain": [
       "<Figure size 576x432 with 1 Axes>"
      ]
     },
     "metadata": {
      "needs_background": "light"
     },
     "output_type": "display_data"
    }
   ],
   "source": [
    "model_set=XGBClassifier()\n",
    "model_set.fit(train,Y_train)\n",
    "y_train_probs = model_set.predict_proba(train)[:,1] # converting train and test output into probability\n",
    "y_test_probs= model_set.predict_proba(test)[:,1]\n",
    "\n",
    "train_fpr, train_tpr, tr_thresholds = roc_curve(Y_train, y_train_probs) # storing values of fpr and tpr\n",
    "test_fpr, test_tpr, te_thresholds = roc_curve(Y_test, y_test_probs)\n",
    "\n",
    "plt.figure(figsize=(8,6))\n",
    "plt.plot(train_fpr, train_tpr, label=\"Train AUC =\"+str(auc(train_fpr, train_tpr)))\n",
    "plt.plot(test_fpr, test_tpr, label=\"Test AUC =\"+str(auc(test_fpr, test_tpr)))\n",
    "plt.legend()\n",
    "plt.xlabel(\"False Positive Rate(FPR)\")\n",
    "plt.ylabel(\"True Positive Rate(TPR)\")\n",
    "plt.title(\"AUC\")\n",
    "plt.grid(color='black',lw=0.5)"
   ]
  },
  {
   "cell_type": "code",
   "execution_count": 53,
   "id": "6f9dc102",
   "metadata": {},
   "outputs": [],
   "source": []
  },
  {
   "cell_type": "code",
   "execution_count": null,
   "id": "dc028854",
   "metadata": {},
   "outputs": [],
   "source": []
  }
 ],
 "metadata": {
  "kernelspec": {
   "display_name": "Python 3 (ipykernel)",
   "language": "python",
   "name": "python3"
  },
  "language_info": {
   "codemirror_mode": {
    "name": "ipython",
    "version": 3
   },
   "file_extension": ".py",
   "mimetype": "text/x-python",
   "name": "python",
   "nbconvert_exporter": "python",
   "pygments_lexer": "ipython3",
   "version": "3.10.1"
  }
 },
 "nbformat": 4,
 "nbformat_minor": 5
}
